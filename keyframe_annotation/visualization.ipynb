{
 "cells": [
  {
   "cell_type": "code",
   "execution_count": null,
   "id": "245c7bcd",
   "metadata": {},
   "outputs": [
    {
     "name": "stderr",
     "output_type": "stream",
     "text": [
      "/data/lixiang10/anaconda3/envs/cogact/lib/python3.10/site-packages/tqdm/auto.py:21: TqdmWarning: IProgress not found. Please update jupyter and ipywidgets. See https://ipywidgets.readthedocs.io/en/stable/user_install.html\n",
      "  from .autonotebook import tqdm as notebook_tqdm\n",
      "2025-08-19 15:38:48.436633: E external/local_xla/xla/stream_executor/cuda/cuda_dnn.cc:9261] Unable to register cuDNN factory: Attempting to register factory for plugin cuDNN when one has already been registered\n",
      "2025-08-19 15:38:48.436887: E external/local_xla/xla/stream_executor/cuda/cuda_fft.cc:607] Unable to register cuFFT factory: Attempting to register factory for plugin cuFFT when one has already been registered\n",
      "2025-08-19 15:38:48.927850: E external/local_xla/xla/stream_executor/cuda/cuda_blas.cc:1515] Unable to register cuBLAS factory: Attempting to register factory for plugin cuBLAS when one has already been registered\n",
      "2025-08-19 15:38:49.967503: I tensorflow/core/platform/cpu_feature_guard.cc:182] This TensorFlow binary is optimized to use available CPU instructions in performance-critical operations.\n",
      "To enable the following instructions: AVX2 AVX512F FMA, in other operations, rebuild TensorFlow with the appropriate compiler flags.\n",
      "2025-08-19 15:38:52.320220: W tensorflow/compiler/tf2tensorrt/utils/py_utils.cc:38] TF-TRT Warning: Could not find TensorRT\n"
     ]
    }
   ],
   "source": [
    "import tensorflow_datasets as tfds\n",
    "import tensorflow as tf\n",
    "import json\n",
    "from PIL import Image\n",
    "import pprint\n",
    "import tqdm"
   ]
  },
  {
   "cell_type": "code",
   "execution_count": 2,
   "id": "d02c7d16",
   "metadata": {},
   "outputs": [],
   "source": [
    "# Load the LIBERO reasonings\n",
    "with open(\"/data/lixiang10/embodiedCoT/embodied_features_bridge.json\", \"r\") as f:\n",
    "    reasoning_data = json.load(f)"
   ]
  },
  {
   "cell_type": "code",
   "execution_count": null,
   "id": "fa13bc86",
   "metadata": {},
   "outputs": [
    {
     "name": "stdout",
     "output_type": "stream",
     "text": [
      "len bridge_reasoning files: 3200\n",
      "filename: /nfs/kun2/users/homer/datasets/bridge_data_all/numpy_256/bridge_data_v2/deepthought_folding_table/stack_blocks/19/train/out.npy\n",
      "  Demo ID: 43\n",
      "dict_keys(['features', 'metadata', 'reasoning'])\n"
     ]
    }
   ],
   "source": [
    "print(\"len bridge_reasoning files:\", len(reasoning_data.keys()))\n",
    "\n",
    "for i, filename in tqdm.tqdm(enumerate(reasoning_data.keys())):\n",
    "    for demo_id in reasoning_data[filename].keys():\n",
    "        demo = reasoning_data[filename][demo_id]\n",
    "        break\n",
    "    if 'pot' in demo['metadata']['language_instruction']:\n",
    "        print(f\"  Demo ID: {demo_id}\")\n",
    "        print(demo.keys())\n",
    "        print(demo['metadata']['language_instruction'])\n",
    "        break"
   ]
  },
  {
   "cell_type": "code",
   "execution_count": 6,
   "id": "09835295",
   "metadata": {},
   "outputs": [
    {
     "name": "stdout",
     "output_type": "stream",
     "text": [
      "move the wooden arch to the table\n"
     ]
    }
   ],
   "source": [
    "print(demo['metadata']['language_instruction'])"
   ]
  },
  {
   "cell_type": "code",
   "execution_count": null,
   "id": "d60c2a89",
   "metadata": {},
   "outputs": [],
   "source": []
  }
 ],
 "metadata": {
  "kernelspec": {
   "display_name": "cogact",
   "language": "python",
   "name": "python3"
  },
  "language_info": {
   "codemirror_mode": {
    "name": "ipython",
    "version": 3
   },
   "file_extension": ".py",
   "mimetype": "text/x-python",
   "name": "python",
   "nbconvert_exporter": "python",
   "pygments_lexer": "ipython3",
   "version": "3.10.16"
  }
 },
 "nbformat": 4,
 "nbformat_minor": 5
}
