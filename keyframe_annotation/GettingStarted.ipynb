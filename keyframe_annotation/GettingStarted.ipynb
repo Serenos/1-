{
 "cells": [
  {
   "cell_type": "code",
   "execution_count": 1,
   "id": "0b2a24a7",
   "metadata": {},
   "outputs": [
    {
     "name": "stderr",
     "output_type": "stream",
     "text": [
      "/data/lixiang10/anaconda3/envs/cogact/lib/python3.10/site-packages/tqdm/auto.py:21: TqdmWarning: IProgress not found. Please update jupyter and ipywidgets. See https://ipywidgets.readthedocs.io/en/stable/user_install.html\n",
      "  from .autonotebook import tqdm as notebook_tqdm\n",
      "2025-07-07 19:34:14.504642: E external/local_xla/xla/stream_executor/cuda/cuda_dnn.cc:9261] Unable to register cuDNN factory: Attempting to register factory for plugin cuDNN when one has already been registered\n",
      "2025-07-07 19:34:14.504705: E external/local_xla/xla/stream_executor/cuda/cuda_fft.cc:607] Unable to register cuFFT factory: Attempting to register factory for plugin cuFFT when one has already been registered\n",
      "2025-07-07 19:34:14.506113: E external/local_xla/xla/stream_executor/cuda/cuda_blas.cc:1515] Unable to register cuBLAS factory: Attempting to register factory for plugin cuBLAS when one has already been registered\n",
      "2025-07-07 19:34:14.514376: I tensorflow/core/platform/cpu_feature_guard.cc:182] This TensorFlow binary is optimized to use available CPU instructions in performance-critical operations.\n",
      "To enable the following instructions: AVX2 AVX512F FMA, in other operations, rebuild TensorFlow with the appropriate compiler flags.\n",
      "2025-07-07 19:34:15.559921: W tensorflow/compiler/tf2tensorrt/utils/py_utils.cc:38] TF-TRT Warning: Could not find TensorRT\n"
     ]
    }
   ],
   "source": [
    "import tensorflow_datasets as tfds\n",
    "import tensorflow as tf\n",
    "import json\n",
    "from PIL import Image\n",
    "import pprint"
   ]
  },
  {
   "cell_type": "code",
   "execution_count": 2,
   "id": "a317310b",
   "metadata": {},
   "outputs": [],
   "source": [
    "# Load the LIBERO reasonings\n",
    "with open(\"/data/lixiang10/embodiedCoT/embodied_features_bridge.json\", \"r\") as f:\n",
    "    reasoning_data = json.load(f)"
   ]
  },
  {
   "cell_type": "code",
   "execution_count": 3,
   "id": "e0fbb244",
   "metadata": {},
   "outputs": [
    {
     "name": "stdout",
     "output_type": "stream",
     "text": [
      "len bridge_reasoning files: 3200\n",
      "filename: /nfs/kun2/users/homer/datasets/bridge_data_all/numpy_256/bridge_data_v2/deepthought_folding_table/stack_blocks/19/train/out.npy\n",
      "  Demo ID: 43\n",
      "dict_keys(['features', 'metadata', 'reasoning'])\n"
     ]
    }
   ],
   "source": [
    "print(\"len bridge_reasoning files:\", len(reasoning_data.keys()))\n",
    "\n",
    "for filename in reasoning_data.keys():\n",
    "    print(f\"filename: {filename}\")\n",
    "    for demo_id in reasoning_data[filename].keys():\n",
    "        demo = reasoning_data[filename][demo_id]\n",
    "        print(f\"  Demo ID: {demo_id}\")\n",
    "        print(demo.keys())\n",
    "        break\n",
    "    break"
   ]
  },
  {
   "cell_type": "code",
   "execution_count": 4,
   "id": "41706bf7",
   "metadata": {},
   "outputs": [
    {
     "name": "stdout",
     "output_type": "stream",
     "text": [
      "{'move_primitive': ['stop', 'stop', 'move up', 'move up', 'move up', 'move right up', 'move right up', 'move right', 'move right', 'move right', 'move right', 'move right', 'move right', 'stop', 'stop', 'stop', 'stop', 'stop', 'close gripper', 'close gripper', 'close gripper', 'close gripper', 'close gripper', 'stop', 'stop', 'move left', 'move left', 'move left down', 'move left down', 'move down', 'move down, open gripper', 'open gripper', 'open gripper', 'open gripper', 'open gripper', 'move up', 'move up', 'move up', 'stop', 'stop'], 'gripper_position': [[97, 45], [97, 45], [89, 52], [83, 58], [82, 57], [84, 55], [85, 55], [85, 55], [85, 55], [85, 55], [85, 55], [85, 55], [85, 55], [85, 55], [152, 89], [152, 89], [152, 89], [152, 89], [152, 89], [152, 89], [152, 89], [152, 89], [152, 89], [153, 88], [153, 88], [163, 79], [163, 79], [173, 52], [173, 52], [173, 43], [177, 31], [178, 28], [179, 29], [176, 30], [178, 30], [174, 32], [167, 36], [160, 40], [145, 46], [130, 53]], 'bboxes': [[[0.3405100107192993, 'wooden blocks', [150, 4, 188, 100]]], [[0.3481900095939636, 'wooden blocks', [150, 4, 188, 100]]], [[0.3499700129032135, 'table table', [5, 0, 245, 251]], [0.3280400037765503, 'wooden blocks', [149, 4, 189, 101]]], [[0.3536899983882904, 'wooden blocks', [150, 4, 188, 100]], [0.34000998735427856, 'table table', [6, 1, 243, 250]]], [[0.3369300067424774, 'wooden blocks', [150, 4, 188, 100]], [0.30781999230384827, 'a wooden cup', [217, 70, 250, 109]]], [[0.33087000250816345, 'wooden blocks', [150, 4, 188, 100]], [0.3070800006389618, 'table table', [5, 1, 243, 248]], [0.3194499909877777, 'a wooden cup', [217, 70, 250, 109]]], [[0.3111400008201599, 'wooden blocks', [150, 4, 188, 100]], [0.302700012922287, 'a wooden cup', [217, 70, 250, 108]]], [[0.3211899995803833, 'wooden blocks', [150, 5, 188, 100]], [0.31905001401901245, 'table table', [5, 0, 243, 250]]], [[0.3196699917316437, 'wooden blocks', [150, 5, 188, 100]], [0.30066999793052673, 'a wooden cup', [217, 70, 250, 109]]], [[0.3246600031852722, 'wooden blocks', [150, 5, 188, 100]], [0.3105199933052063, 'table table', [5, 0, 242, 249]], [0.33006998896598816, 'a wooden cup', [217, 70, 250, 109]]], [[0.31801000237464905, 'wooden blocks', [150, 5, 188, 101]], [0.33219000697135925, 'table table', [5, 0, 243, 251]], [0.30588001012802124, 'a wooden cup', [217, 70, 250, 109]]], [[0.31933000683784485, 'wooden blocks', [150, 5, 188, 100]], [0.31716999411582947, 'a wooden cup', [217, 70, 250, 109]]], [[0.31099000573158264, 'wooden blocks', [150, 5, 188, 101]]], [[0.30886000394821167, 'wooden blocks', [150, 5, 188, 100]], [0.30204999446868896, 'a wooden cup', [218, 71, 250, 108]]], [[0.3175300061702728, 'a wooden cup', [217, 71, 250, 108]]], [[0.30831998586654663, 'wooden blocks', [150, 5, 188, 100]]], [[0.3143100142478943, 'table table', [5, 1, 244, 250]]], [[0.31929001212120056, 'table table', [5, 1, 243, 250]], [0.3004100024700165, 'wooden blocks', [150, 4, 188, 100]], [0.3132700026035309, 'a wooden cup', [217, 70, 250, 108]]], [[0.32124999165534973, 'table table', [5, 0, 244, 251]]], [[0.3041599988937378, 'a wooden cup', [217, 70, 250, 108]]], [[0.3012700080871582, 'a wooden cup', [217, 70, 250, 108]]], [], [[0.3127700090408325, 'a wooden cup', [217, 70, 250, 108]]], [], [[0.3130899965763092, 'table table', [6, 1, 242, 250]]], [[0.32885000109672546, 'table table', [6, 1, 242, 251]]], [], [], [], [], [[0.334850013256073, 'a wooden cup', [217, 70, 250, 109]]], [], [[0.30202001333236694, 'wooden blocks', [87, 21, 179, 101]]], [], [[0.31000998616218567, 'table table', [8, 0, 241, 248]]], [], [], [], [[0.3311600089073181, 'table table', [6, 1, 241, 251]]], []]}\n",
      "{'episode_id': 43, 'file_path': '/nfs/kun2/users/homer/datasets/bridge_data_all/numpy_256/bridge_data_v2/deepthought_folding_table/stack_blocks/19/train/out.npy', 'n_steps': 40, 'language_instruction': 'move the wooden arch to the table'}\n",
      "{'0': {'task': 'Move the wooden arch onto the table.', 'plan': 'Reach for the wooden arch. Grasp the wooden arch. Move the wooden arch to the table. Drop the wooden arch onto the table.', 'subtask': 'Reach for the wooden arch.', 'subtask_reason': 'The wooden arch is the object that needs to be moved, so the first step is to reach for it.', 'move': 'stop', 'move_reason': 'The arm is already in a good position to reach for the wooden arch.'}, '1': {'task': 'Move the wooden arch onto the table.', 'plan': 'Reach for the wooden arch. Grasp the wooden arch. Move the wooden arch to the table. Drop the wooden arch onto the table.', 'subtask': 'Reach for the wooden arch.', 'subtask_reason': 'The wooden arch is the object that needs to be moved, so the first step is to reach for it.', 'move': 'stop', 'move_reason': 'The arm is already in a good position to reach for the wooden arch.'}, '2': {'task': 'Move the wooden arch onto the table.', 'plan': 'Reach for the wooden arch. Grasp the wooden arch. Move the wooden arch to the table. Drop the wooden arch onto the table.', 'subtask': 'Reach for the wooden arch.', 'subtask_reason': 'The wooden arch is the object that needs to be moved, so the first step is to reach for it.', 'move': 'move up', 'move_reason': 'The wooden arch is above the arm, so the arm needs to move up to reach it.'}, '3': {'task': 'Move the wooden arch onto the table.', 'plan': 'Reach for the wooden arch. Grasp the wooden arch. Move the wooden arch to the table. Drop the wooden arch onto the table.', 'subtask': 'Reach for the wooden arch.', 'subtask_reason': 'The wooden arch is the object that needs to be moved, so the first step is to reach for it.', 'move': 'move up', 'move_reason': 'The wooden arch is above the arm, so the arm needs to move up to reach it.'}, '4': {'task': 'Move the wooden arch onto the table.', 'plan': 'Reach for the wooden arch. Grasp the wooden arch. Move the wooden arch to the table. Drop the wooden arch onto the table.', 'subtask': 'Reach for the wooden arch.', 'subtask_reason': 'The wooden arch is the object that needs to be moved, so the first step is to reach for it.', 'move': 'move up', 'move_reason': 'The wooden arch is above the arm, so the arm needs to move up to reach it.'}, '5': {'task': 'Move the wooden arch onto the table.', 'plan': 'Reach for the wooden arch. Grasp the wooden arch. Move the wooden arch to the table. Drop the wooden arch onto the table.', 'subtask': 'Reach for the wooden arch.', 'subtask_reason': 'The wooden arch is the object that needs to be moved, so the first step is to reach for it.', 'move': 'move right up', 'move_reason': 'The wooden arch is to the right and above the arm, so the arm needs to move right and up to reach it.'}, '6': {'task': 'Move the wooden arch onto the table.', 'plan': 'Reach for the wooden arch. Grasp the wooden arch. Move the wooden arch to the table. Drop the wooden arch onto the table.', 'subtask': 'Reach for the wooden arch.', 'subtask_reason': 'The wooden arch is the object that needs to be moved, so the first step is to reach for it.', 'move': 'move right up', 'move_reason': 'The wooden arch is to the right and above the arm, so the arm needs to move right and up to reach it.'}, '7': {'task': 'Move the wooden arch onto the table.', 'plan': 'Reach for the wooden arch. Grasp the wooden arch. Move the wooden arch to the table. Drop the wooden arch onto the table.', 'subtask': 'Reach for the wooden arch.', 'subtask_reason': 'The wooden arch is the object that needs to be moved, so the first step is to reach for it.', 'move': 'move right', 'move_reason': 'The wooden arch is to the right of the arm, so the arm needs to move right to reach it.'}, '8': {'task': 'Move the wooden arch onto the table.', 'plan': 'Reach for the wooden arch. Grasp the wooden arch. Move the wooden arch to the table. Drop the wooden arch onto the table.', 'subtask': 'Reach for the wooden arch.', 'subtask_reason': 'The wooden arch is the object that needs to be moved, so the first step is to reach for it.', 'move': 'move right', 'move_reason': 'The wooden arch is to the right of the arm, so the arm needs to move right to reach it.'}, '9': {'task': 'Move the wooden arch onto the table.', 'plan': 'Reach for the wooden arch. Grasp the wooden arch. Move the wooden arch to the table. Drop the wooden arch onto the table.', 'subtask': 'Reach for the wooden arch.', 'subtask_reason': 'The wooden arch is the object that needs to be moved, so the first step is to reach for it.', 'move': 'move right', 'move_reason': 'The wooden arch is to the right of the arm, so the arm needs to move right to reach it.'}, '10': {'task': 'Move the wooden arch onto the table.', 'plan': 'Reach for the wooden arch. Gra```\\nsp the wooden arch. Move the wooden arch to the table. Drop the wooden arch onto the table.', 'subtask': 'Reach for the wooden arch.', 'subtask_reason': 'The wooden arch is the object that needs to be moved, so the first step is to reach for it.', 'move': 'move right', 'move_reason': 'The wooden arch is to the right of the arm, so the arm needs to move right to reach it.'}, '11': {'task': 'Move the wooden arch onto the table.', 'plan': 'Reach for the wooden arch. Grasp the wooden arch. Move the wooden arch to the table. Drop the wooden arch onto the table.', 'subtask': 'Reach for the wooden arch.', 'subtask_reason': 'The wooden arch is the object that needs to be moved, so the first step is to reach for it.', 'move': 'move right', 'move_reason': 'The wooden arch is to the right of the arm, so the arm needs to move right to reach it.'}, '12': {'task': 'Move the wooden arch onto the table.', 'plan': 'Reach for the wooden arch. Grasp the wooden arch. Move the wooden arch to the table. Drop the wooden arch onto the table.', 'subtask': 'Reach for the wooden arch.', 'subtask_reason': 'The wooden arch is the object that needs to be moved, so the first step is to reach for it.', 'move': 'move right', 'move_reason': 'The wooden arch is to the right of the arm, so the arm needs to move right to reach it.'}, '13': {'task': 'Move the wooden arch onto the table.', 'plan': 'Reach for the wooden arch. Grasp the wooden arch. Move the wooden arch to the table. Drop the wooden arch onto the table.', 'subtask': 'Reach for the wooden arch.', 'subtask_reason': 'The wooden arch is the object that needs to be moved, so the first step is to reach for it.', 'move': 'stop', 'move_reason': 'The arm is now in position to grasp the wooden arch.'}, '14': {'task': 'Move the wooden arch onto the table.', 'plan': 'Reach for the wooden arch. Grasp the wooden arch. Move the wooden arch to the table. Drop the wooden arch onto the table.', 'subtask': 'Grasp the wooden arch.', 'subtask_reason': 'The wooden arch is the object that needs to be moved, so the next step is to grasp it.', 'move': 'stop', 'move_reason': 'The arm is already in position to grasp the wooden arch.'}, '15': {'task': 'Move the wooden arch onto the table.', 'plan': 'Reach for the wooden arch. Grasp the wooden arch. Move the wooden arch to the table. Drop the wooden arch onto the table.', 'subtask': 'Grasp the wooden arch.', 'subtask_reason': 'The wooden arch is the object that needs to be moved, so the next step is to grasp it.', 'move': 'stop', 'move_reason': 'The arm is already in position to grasp the wooden arch.'}, '16': {'task': 'Move the wooden arch onto the table.', 'plan': 'Reach for the wooden arch. Grasp the wooden arch. Move the wooden arch to the table. Drop the wooden arch onto the table.', 'subtask': 'Grasp the wooden arch.', 'subtask_reason': 'The wooden arch is the object that needs to be moved, so the next step is to grasp it.', 'move': 'stop', 'move_reason': 'The arm is already in position to grasp the wooden arch.'}, '17': {'task': 'Move the wooden arch onto the table.', 'plan': 'Reach for the wooden arch. Grasp the wooden arch. Move the wooden arch to the table. Drop the wooden arch onto the table.', 'subtask': 'Grasp the wooden arch.', 'subtask_reason': 'The wooden arch is the object that needs to be moved, so the next step is to grasp it.', 'move': 'stop', 'move_reason': 'The arm is already in position to grasp the wooden arch.'}, '18': {'task': 'Move the wooden arch onto the table.', 'plan': 'Reach for the wooden arch. Grasp the wooden arch. Move the wooden arch to the table. Drop the wooden arch onto the table.', 'subtask': 'Grasp the wooden arch.', 'subtask_reason': 'The wooden arch is the object that needs to be moved, so the next step is to grasp it.', 'move': 'close gripper', 'move_reason': 'The gripper is not yet closed, so it needs to be closed to grasp the wooden arch.'}, '19': {'task': 'Move the wooden arch onto the table.', 'plan': 'Reach for the wooden arch. Grasp the wooden arch. Move the wooden arch to the table. Drop the wooden arch onto the table.', 'subtask': 'Grasp the wooden arch.', 'subtask_reason': 'The wooden arch is the object that needs to be moved, so the next step is to grasp it.', 'move': 'close gripper', 'move_reason': 'The gripper is not yet closed, so it needs to be closed to grasp the wooden arch.'}, '20': {'task': 'Move the wooden arch onto the table.', 'plan': 'Reach for the wooden arch. Grasp the wooden arch. Move the wooden arch to the table. Drop the wooden arch onto the table.', 'subtask': 'Grasp the wooden arch.', 'subtask_reason': 'The wooden arch is the object that needs to be moved, so the next step is to grasp it.', 'move': 'close gripper', 'move_reason': 'The gripper is not yet closed, so it needs to be closed to grasp the wooden arch.'}, '21': {'task': 'Move the wooden arch onto the table.', 'plan': 'Reach for the wooden arch. Grasp the wooden arch. Move the wooden arch to the table. Drop the wooden arch onto the table.', 'subtask': 'Grasp the wooden arch.', 'subtask_reason': 'The wooden arch is the object that needs to be moved, so the next step is to grasp it.', 'move': 'close gripper', 'move_reason': 'The gripper is not yet closed, so it needs to be closed to grasp the wooden arch.'}, '22': {'task': 'Move the wooden arch onto the table.', 'plan': 'Reach for the wooden arch. Grasp the wooden arch. Move the wooden arch to the table. Drop the wooden arch onto the table.', 'subtask': 'Grasp the wooden arch.', 'subtask_reason': 'The wooden arch is the object that needs to be moved, so the next step is to grasp it.', 'move': 'close gripper', 'move_reason': 'The gripper is not yet closed, so it needs to be closed to grasp the wooden arch.'}, '23': {'task': 'Move the wooden arch onto the table.', 'plan': 'Reach for the wooden arch. Grasp the wooden arch. Move the wooden arch to the table. Drop the wooden arch onto the table.', 'subtask': 'Move the wooden arch to the table.', 'subtask_reason': 'The wooden arch is now grasped, so the next step is to move it to the table.', 'move': 'stop', 'move_reason': 'The arm is now in position to move the wooden arch to the table.'}, '24': {'task': 'Move the wooden arch onto the table.', 'plan': 'Reach for the wooden arch. Grasp the wooden arch. Move the wooden arch to the table. Drop the wooden arch onto the table.', 'subtask': 'Move the wooden arch to the table.', 'subtask_reason': 'The wooden arch is now grasped, so the next step is to move it to the table.', 'move': 'stop', 'move_reason': 'The arm is already in positionto move the wooden arch to the table.'}, '25': {'task': 'Move the wooden arch onto the table.', 'plan': 'Reach for the wooden arch. Grasp the wooden arch. Move the wooden arch to the table. Drop the wooden arch onto the table.', 'subtask': 'Move the wooden arch to the table.', 'subtask_reason': 'The wooden arch is now grasped, so the next step is to move it to the table.', 'move': 'move left', 'move_reason': 'The table is to the left of the arm, so the arm needs to move left to move the wooden arch to the table.'}, '26': {'task': 'Move the wooden arch onto the table.', 'plan': 'Reach for the wooden arch. Grasp the wooden arch. Move the wooden arch to the table. Drop the wooden arch onto the table.', 'subtask': 'Move the wooden arch to the table.', 'subtask_reason': 'The wooden arch is now grasped, so the next step is to move it to the table.', 'move': 'move left', 'move_reason': 'The table is to the left of the arm, so the arm needs to move left to move the wooden arch to the table.'}, '27': {'task': 'Move the wooden arch onto the table.', 'plan': 'Reach for the wooden arch. Grasp the wooden arch. Move the wooden arch to the table. Drop the wooden arch onto the table.', 'subtask': 'Move the wooden arch to the table.', 'subtask_reason': 'The wooden arch is now grasped, so the next step is to move it to the table.', 'move': 'move left down', 'move_reason': 'The table is to the left and below the arm, so the arm needs to move left and down to move the wooden arch to the table.'}, '28': {'task': 'Move the wooden arch onto the table.', 'plan': 'Reach for the wooden arch. Grasp the wooden arch. Move the wooden arch to the table. Drop the wooden arch onto the table.', 'subtask': 'Move the wooden arch to the table.', 'subtask_reason': 'The wooden arch is now grasped, so the next step is to move it to the table.', 'move': 'move left down', 'move_reason': 'The table is to the left and below the arm, so the arm needs to move left and down to move the wooden arch to the table.'}, '29': {'task': 'Move the wooden arch onto the table.', 'plan': 'Reach for the wooden arch. Grasp the wooden arch. Move the wooden arch to the table. Drop the wooden arch onto the table.', 'subtask': 'Move the wooden arch to the table.', 'subtask_reason': 'The wooden arch is now grasped, so the next step is to move it to the table.', 'move': 'move down', 'move_reason': 'The table is below the arm, so the arm needs to move down to move the wooden arch to the table.'}, '30': {'task': 'Move the wooden arch onto the table.', 'plan': 'Reach for the wooden arch. Grasp the wooden arch. Move the wooden arch to the table. Drop the wooden arch onto the table.', 'subtask': 'Move the wooden arch to the table.', 'subtask_reason': 'The wooden arch is now grasped, so the next step is to move it to the table.', 'move': 'move down, open gripper', 'move_reason': 'The table is below the arm, so the arm needs to move down to move the wooden arch to the table. The gripper needs to be opened to drop the wooden arch onto the table.'}, '31': {'task': 'Move the wooden arch onto the table.', 'plan': 'Reach for the wooden arch. Grasp the wooden arch. Move the wooden arch to the table. Drop the wooden arch onto the table.', 'subtask': 'Drop the wooden arch onto the table.', 'subtask_reason': 'The wooden arch is now above the table, so the next step is to drop it onto the table.', 'move': 'open gripper', 'move_reason': 'The gripper is currently closed, so it needs to be opened to drop the wooden arch.'}, '32': {'task': 'Move the wooden arch onto the table.', 'plan': 'Reach for the wooden arch. Grasp the wooden arch. Move the wooden arch to the table. Drop the wooden arch onto the table.', 'subtask': 'Drop the wooden arch onto the table.', 'subtask_reason': 'The wooden arch is now above the table, so the next step is to drop it onto the table.', 'move': 'open gripper', 'move_reason': 'The gripper is currently closed, so it needs to be opened to drop the wooden arch.'}, '33': {'task': 'Move the wooden arch onto the table.', 'plan': 'Reach for the wooden arch. Grasp the wooden arch. Move the wooden arch to the table. Drop the wooden arch onto the table.', 'subtask': 'Drop the wooden arch onto the table.', 'subtask_reason': 'The wooden arch is now above the table, so the next step is to drop it onto the table.', 'move': 'open gripper', 'move_reason': 'The gripper is currently closed, so it needs to be opened to drop the wooden arch.'}, '34': {'task': 'Move the wooden arch onto the table.', 'plan': 'Reach for the wooden arch. Grasp the wooden arch. Move the wooden arch to the table. Drop the wooden arch onto the table.', 'subtask': 'Drop the wooden arch onto the table.', 'subtask_reason': 'The wooden arch is now above the table, so the next step is to drop it onto the table.', 'move': 'open gripper', 'move_reason': 'The gripper is currently closed, so it needs to be opened to drop the wooden arch.'}, '35': {'task': 'Move the wooden arch onto the table.', 'plan': 'Reach for the wooden arch. Grasp the wooden arch. Move the wooden arch to the table. Drop the wooden arch onto the table.', 'subtask': 'Reach for the wooden arch.', 'subtask_reason': 'The wooden arch is no longer grasped, so the next step is to reach for itagain.', 'move': 'move up', 'move_reason': 'The wooden arch is above the arm, so the arm needs to move up to reach it.'}, '36': {'task': 'Move the wooden arch onto the table.', 'plan': 'Reach for the wooden arch. Grasp the wooden arch. Move the wooden arch to the table. Drop the wooden arch onto the table.', 'subtask': 'Reach for the wooden arch.', 'subtask_reason': 'The wooden arch is no longer grasped, so the next step is to reach for it again.', 'move': 'move up', 'move_reason': 'The wooden arch is above the arm, so the arm needs to move up to reach it.'}, '37': {'task': 'Move the wooden arch onto the table.', 'plan': 'Reach for the wooden arch. Grasp the wooden arch. Move the wooden arch to the table. Drop the wooden arch onto the table.', 'subtask': 'Reach for the wooden arch.', 'subtask_reason': 'The wooden arch is no longer grasped, so the next step is to reach for it again.', 'move': 'move up', 'move_reason': 'The wooden arch is above the arm, so the arm needs to move up to reach it.'}, '38': {'task': 'Move the wooden arch onto the table.', 'plan': 'Reach for the wooden arch. Grasp the wooden arch. Move the wooden arch to the table. Drop the wooden arch onto the table.', 'subtask': 'Reach for the wooden arch.', 'subtask_reason': 'The wooden arch is no longer grasped, so the next step is to reach for it again.', 'move': 'stop', 'move_reason': 'The arm is now in position to grasp the wooden arch.'}, '39': {'task': 'Move the wooden arch onto the table.', 'plan': 'Reach for the wooden arch. Grasp the wooden arch. Move the wooden arch to the table. Drop the wooden arch onto the table.', 'subtask': 'Grasp the wooden arch.', 'subtask_reason': 'The wooden arch is the object that needs to be moved, so the next step is to grasp it.', 'move': 'stop', 'move_reason': 'The arm is already in position to grasp the wooden arch.'}}\n"
     ]
    }
   ],
   "source": [
    "print(demo['features'])\n",
    "print(demo['metadata'])\n",
    "print(demo['reasoning'])"
   ]
  },
  {
   "cell_type": "code",
   "execution_count": 50,
   "id": "5bee8917",
   "metadata": {},
   "outputs": [
    {
     "name": "stdout",
     "output_type": "stream",
     "text": [
      "Subtask keyframe: [1, 0, 0, 0, 0, 0, 0, 0, 0, 0, 0, 0, 0, 0, 1, 0, 0, 0, 0, 0, 0, 0, 0, 1, 0, 0, 0, 0, 0, 0, 0, 1, 0, 0, 0, 1, 0, 0, 0, 1]\n",
      "Move keyframe: [1, 0, 1, 0, 0, 1, 0, 1, 0, 0, 0, 0, 0, 1, 0, 0, 0, 0, 1, 0, 0, 0, 0, 1, 0, 1, 0, 1, 0, 1, 1, 1, 0, 0, 0, 1, 0, 0, 1, 0]\n",
      "Vision keyframe: [1, 0, 1, 0, 1, 1, 1, 1, 1, 1, 0, 1, 1, 1, 1, 1, 1, 1, 1, 1, 0, 0, 0, 0, 1, 0, 0, 0, 0, 0, 1, 0, 1, 0, 1, 0, 0, 0, 0, 0]\n"
     ]
    }
   ],
   "source": [
    "subtask_keyframe = []\n",
    "move_keyframe = []\n",
    "vision_keyframe = []\n",
    "cur_subtask, cur_move = '', ''\n",
    "cur_vision = set()\n",
    "\n",
    "for key, value in demo['reasoning'].items():\n",
    "    move = value['move']\n",
    "    subtask = value['subtask']\n",
    "    vision = demo['features']['bboxes'][int(key)]\n",
    "\n",
    "    #print(move)\n",
    "    if move != cur_move:\n",
    "        cur_move = move\n",
    "        move_keyframe.append(1)\n",
    "    else:\n",
    "        move_keyframe.append(0)\n",
    "\n",
    "    #print(subtask)\n",
    "    if subtask != cur_subtask:\n",
    "        cur_subtask = subtask\n",
    "        subtask_keyframe.append(1)\n",
    "    else:\n",
    "        subtask_keyframe.append(0)\n",
    "\n",
    "    visble_objs_set = set()\n",
    "    # print(vision)\n",
    "    if len(vision) == 0:\n",
    "        vision_keyframe.append(0)\n",
    "        continue\n",
    "    for obj in vision:\n",
    "        for info in obj:\n",
    "            if type(info) is str:\n",
    "                visble_objs_set.add(info)\n",
    "    #print(visble_objs_set)\n",
    "    if visble_objs_set != cur_vision:\n",
    "        cur_vision = visble_objs_set\n",
    "        vision_keyframe.append(1)\n",
    "    else:\n",
    "        vision_keyframe.append(0)\n",
    "\n",
    "print(\"Subtask keyframe:\", subtask_keyframe)\n",
    "print(\"Move keyframe:\", move_keyframe)\n",
    "print(\"Vision keyframe:\", vision_keyframe)\n"
   ]
  },
  {
   "cell_type": "code",
   "execution_count": 52,
   "id": "058914ba",
   "metadata": {},
   "outputs": [],
   "source": [
    "demo['features']['subtask_keyframe'] = subtask_keyframe\n",
    "demo['features']['move_keyframe'] = move_keyframe\n",
    "demo['features']['vision_keyframe'] = vision_keyframe"
   ]
  },
  {
   "cell_type": "code",
   "execution_count": 53,
   "id": "62d2c699",
   "metadata": {},
   "outputs": [
    {
     "name": "stdout",
     "output_type": "stream",
     "text": [
      "40\n",
      "['stop', 'stop', 'move up', 'move up', 'move up', 'move right up', 'move right up', 'move right', 'move right', 'move right', 'move right', 'move right', 'move right', 'stop', 'stop', 'stop', 'stop', 'stop', 'close gripper', 'close gripper', 'close gripper', 'close gripper', 'close gripper', 'stop', 'stop', 'move left', 'move left', 'move left down', 'move left down', 'move down', 'move down, open gripper', 'open gripper', 'open gripper', 'open gripper', 'open gripper', 'move up', 'move up', 'move up', 'stop', 'stop']\n",
      "40\n",
      "[[97, 45], [97, 45], [89, 52], [83, 58], [82, 57], [84, 55], [85, 55], [85, 55], [85, 55], [85, 55], [85, 55], [85, 55], [85, 55], [85, 55], [152, 89], [152, 89], [152, 89], [152, 89], [152, 89], [152, 89], [152, 89], [152, 89], [152, 89], [153, 88], [153, 88], [163, 79], [163, 79], [173, 52], [173, 52], [173, 43], [177, 31], [178, 28], [179, 29], [176, 30], [178, 30], [174, 32], [167, 36], [160, 40], [145, 46], [130, 53]]\n",
      "40\n",
      "[[[0.3405100107192993, 'wooden blocks', [150, 4, 188, 100]]], [[0.3481900095939636, 'wooden blocks', [150, 4, 188, 100]]], [[0.3499700129032135, 'table table', [5, 0, 245, 251]], [0.3280400037765503, 'wooden blocks', [149, 4, 189, 101]]], [[0.3536899983882904, 'wooden blocks', [150, 4, 188, 100]], [0.34000998735427856, 'table table', [6, 1, 243, 250]]], [[0.3369300067424774, 'wooden blocks', [150, 4, 188, 100]], [0.30781999230384827, 'a wooden cup', [217, 70, 250, 109]]], [[0.33087000250816345, 'wooden blocks', [150, 4, 188, 100]], [0.3070800006389618, 'table table', [5, 1, 243, 248]], [0.3194499909877777, 'a wooden cup', [217, 70, 250, 109]]], [[0.3111400008201599, 'wooden blocks', [150, 4, 188, 100]], [0.302700012922287, 'a wooden cup', [217, 70, 250, 108]]], [[0.3211899995803833, 'wooden blocks', [150, 5, 188, 100]], [0.31905001401901245, 'table table', [5, 0, 243, 250]]], [[0.3196699917316437, 'wooden blocks', [150, 5, 188, 100]], [0.30066999793052673, 'a wooden cup', [217, 70, 250, 109]]], [[0.3246600031852722, 'wooden blocks', [150, 5, 188, 100]], [0.3105199933052063, 'table table', [5, 0, 242, 249]], [0.33006998896598816, 'a wooden cup', [217, 70, 250, 109]]], [[0.31801000237464905, 'wooden blocks', [150, 5, 188, 101]], [0.33219000697135925, 'table table', [5, 0, 243, 251]], [0.30588001012802124, 'a wooden cup', [217, 70, 250, 109]]], [[0.31933000683784485, 'wooden blocks', [150, 5, 188, 100]], [0.31716999411582947, 'a wooden cup', [217, 70, 250, 109]]], [[0.31099000573158264, 'wooden blocks', [150, 5, 188, 101]]], [[0.30886000394821167, 'wooden blocks', [150, 5, 188, 100]], [0.30204999446868896, 'a wooden cup', [218, 71, 250, 108]]], [[0.3175300061702728, 'a wooden cup', [217, 71, 250, 108]]], [[0.30831998586654663, 'wooden blocks', [150, 5, 188, 100]]], [[0.3143100142478943, 'table table', [5, 1, 244, 250]]], [[0.31929001212120056, 'table table', [5, 1, 243, 250]], [0.3004100024700165, 'wooden blocks', [150, 4, 188, 100]], [0.3132700026035309, 'a wooden cup', [217, 70, 250, 108]]], [[0.32124999165534973, 'table table', [5, 0, 244, 251]]], [[0.3041599988937378, 'a wooden cup', [217, 70, 250, 108]]], [[0.3012700080871582, 'a wooden cup', [217, 70, 250, 108]]], [], [[0.3127700090408325, 'a wooden cup', [217, 70, 250, 108]]], [], [[0.3130899965763092, 'table table', [6, 1, 242, 250]]], [[0.32885000109672546, 'table table', [6, 1, 242, 251]]], [], [], [], [], [[0.334850013256073, 'a wooden cup', [217, 70, 250, 109]]], [], [[0.30202001333236694, 'wooden blocks', [87, 21, 179, 101]]], [], [[0.31000998616218567, 'table table', [8, 0, 241, 248]]], [], [], [], [[0.3311600089073181, 'table table', [6, 1, 241, 251]]], []]\n",
      "40\n",
      "[1, 0, 0, 0, 0, 0, 0, 0, 0, 0, 0, 0, 0, 0, 1, 0, 0, 0, 0, 0, 0, 0, 0, 1, 0, 0, 0, 0, 0, 0, 0, 1, 0, 0, 0, 1, 0, 0, 0, 1]\n",
      "40\n",
      "[1, 0, 1, 0, 0, 1, 0, 1, 0, 0, 0, 0, 0, 1, 0, 0, 0, 0, 1, 0, 0, 0, 0, 1, 0, 1, 0, 1, 0, 1, 1, 1, 0, 0, 0, 1, 0, 0, 1, 0]\n",
      "40\n",
      "[1, 0, 1, 0, 1, 1, 1, 1, 1, 1, 0, 1, 1, 1, 1, 1, 1, 1, 1, 1, 0, 0, 0, 0, 1, 0, 0, 0, 0, 0, 1, 0, 1, 0, 1, 0, 0, 0, 0, 0]\n"
     ]
    }
   ],
   "source": [
    "print(len(demo['features']['move_primitive']))\n",
    "print(demo['features']['move_primitive'])\n",
    "print(len(demo['features']['gripper_position']))\n",
    "print(demo['features']['gripper_position'])\n",
    "print(len(demo['features']['bboxes']))\n",
    "print(demo['features']['bboxes'])\n",
    "print(len(demo['features']['subtask_keyframe']))\n",
    "print(demo['features']['subtask_keyframe'])\n",
    "print(len(demo['features']['move_keyframe']))\n",
    "print(demo['features']['move_keyframe'])\n",
    "print(len(demo['features']['vision_keyframe']))\n",
    "print(demo['features']['vision_keyframe'])"
   ]
  },
  {
   "cell_type": "code",
   "execution_count": null,
   "id": "791f297c",
   "metadata": {},
   "outputs": [],
   "source": []
  },
  {
   "cell_type": "code",
   "execution_count": 66,
   "id": "beaa36b1",
   "metadata": {},
   "outputs": [
    {
     "name": "stderr",
     "output_type": "stream",
     "text": [
      "100%|██████████| 3200/3200 [00:06<00:00, 471.58it/s] \n"
     ]
    }
   ],
   "source": [
    "from tqdm import tqdm\n",
    "for filename in tqdm(reasoning_data.keys()):\n",
    "    for demo_id in reasoning_data[filename].keys():\n",
    "        demo = reasoning_data[filename][demo_id]\n",
    "        subtask_keyframe = []\n",
    "        move_keyframe = []\n",
    "        vision_keyframe = []\n",
    "        cur_subtask, cur_move = '', ''\n",
    "        cur_vision = set()\n",
    "        if 'reasoning' not in demo.keys():\n",
    "            continue\n",
    "        for key, value in demo['reasoning'].items():\n",
    "            move = value['move']\n",
    "            subtask = value['subtask']\n",
    "            if 'bboxes' in demo['features']  and int(key) < len(demo['features']['bboxes']):\n",
    "                vision = demo['features']['bboxes'][int(key)]\n",
    "            else:\n",
    "                vision = []\n",
    "            #print(move)\n",
    "            if move != cur_move:\n",
    "                cur_move = move\n",
    "                move_keyframe.append(1)\n",
    "            else:\n",
    "                move_keyframe.append(0)\n",
    "\n",
    "            #print(subtask)\n",
    "            if subtask != cur_subtask:\n",
    "                cur_subtask = subtask\n",
    "                subtask_keyframe.append(1)\n",
    "            else:\n",
    "                subtask_keyframe.append(0)\n",
    "\n",
    "            visble_objs_set = set()\n",
    "            # print(vision)\n",
    "            if len(vision) == 0:\n",
    "                vision_keyframe.append(0)\n",
    "                continue\n",
    "            for obj in vision:\n",
    "                for info in obj:\n",
    "                    if type(info) is str:\n",
    "                        visble_objs_set.add(info)\n",
    "            #print(visble_objs_set)\n",
    "            if visble_objs_set != cur_vision:\n",
    "                cur_vision = visble_objs_set\n",
    "                vision_keyframe.append(1)\n",
    "            else:\n",
    "                vision_keyframe.append(0)\n",
    "        demo['features']['subtask_keyframe'] = subtask_keyframe\n",
    "        demo['features']['move_keyframe'] = move_keyframe\n",
    "        demo['features']['vision_keyframe'] = vision_keyframe"
   ]
  },
  {
   "cell_type": "code",
   "execution_count": 68,
   "id": "0816ec7d",
   "metadata": {},
   "outputs": [
    {
     "data": {
      "text/plain": [
       "dict_keys(['move_primitive', 'gripper_position', 'bboxes', 'subtask_keyframe', 'move_keyframe', 'vision_keyframe'])"
      ]
     },
     "execution_count": 68,
     "metadata": {},
     "output_type": "execute_result"
    }
   ],
   "source": [
    "demo['features'].keys()"
   ]
  },
  {
   "cell_type": "code",
   "execution_count": 69,
   "id": "615bb7d8",
   "metadata": {},
   "outputs": [
    {
     "name": "stdout",
     "output_type": "stream",
     "text": [
      "['stop', 'move down', 'stop', 'move down', 'stop', 'move down', 'stop', 'stop', 'stop', 'stop', 'stop', 'stop', 'close gripper', 'close gripper', 'close gripper', 'close gripper', 'open gripper', 'move up', 'move up', 'move up', 'move forward', 'move forward', 'move forward', 'move forward down', 'move down', 'move down, open gripper', 'open gripper', 'open gripper', 'open gripper', 'move up, open gripper', 'move up', 'move up', 'stop', 'stop', 'stop', 'stop', 'move left', 'move left', 'move left', 'move left', 'move left', 'move backward', 'move backward', 'move backward', 'move backward', 'move down', 'move down', 'move down', 'stop', 'stop', 'stop', 'stop', 'stop', 'stop', 'stop', 'stop', 'close gripper', 'close gripper', 'close gripper', 'close gripper', 'close gripper', 'stop', 'move up', 'move up', 'move up', 'move forward up', 'move forward', 'move forward', 'move forward', 'move forward down', 'move down, open gripper', 'open gripper', 'open gripper', 'open gripper', 'open gripper', 'stop', 'stop', 'stop']\n",
      "[1, 1, 1, 1, 1, 1, 1, 0, 0, 0, 0, 0, 1, 0, 0, 0, 1, 1, 0, 0, 1, 0, 0, 1, 1, 1, 1, 0, 0, 1, 1, 0, 1, 0, 0, 0, 1, 0, 0, 0, 0, 1, 0, 0, 0, 1, 0, 0, 1, 0, 0, 0, 0, 0, 0, 0, 1, 0, 0, 0, 0, 1, 1, 0, 0, 1, 1, 0, 0, 1, 1, 1, 0, 0, 0, 1, 0, 0]\n"
     ]
    }
   ],
   "source": [
    "print(demo['features']['move_primitive'])\n",
    "print(demo['features']['move_keyframe'])"
   ]
  },
  {
   "cell_type": "code",
   "execution_count": 70,
   "id": "2a00f353",
   "metadata": {},
   "outputs": [],
   "source": [
    "with open(\"/data/lixiang10/embodiedCoT/embodied_features_bridge_keyframe.json\", \"w\") as f:\n",
    "    json.dump(reasoning_data, f, indent=4)"
   ]
  },
  {
   "cell_type": "code",
   "execution_count": 71,
   "id": "675533a6",
   "metadata": {},
   "outputs": [],
   "source": [
    "with open(\"/data/lixiang10/embodiedCoT/embodied_features_bridge_keyframe.json\", \"r\") as f:\n",
    "    reasoning_data_keyframe = json.load(f)"
   ]
  },
  {
   "cell_type": "code",
   "execution_count": 74,
   "id": "de06b921",
   "metadata": {},
   "outputs": [
    {
     "name": "stdout",
     "output_type": "stream",
     "text": [
      "len bridge_reasoning files: 3200\n",
      "filename: /nfs/kun2/users/homer/datasets/bridge_data_all/numpy_256/bridge_data_v2/deepthought_folding_table/stack_blocks/19/train/out.npy\n",
      "  Demo ID: 43\n",
      "dict_keys(['features', 'metadata', 'reasoning'])\n"
     ]
    }
   ],
   "source": [
    "print(\"len bridge_reasoning files:\", len(reasoning_data_keyframe.keys()))\n",
    "\n",
    "for filename in reasoning_data_keyframe.keys():\n",
    "    print(f\"filename: {filename}\")\n",
    "    for demo_id in reasoning_data_keyframe[filename].keys():\n",
    "        demo_keyframe = reasoning_data_keyframe[filename][demo_id]\n",
    "        print(f\"  Demo ID: {demo_id}\")\n",
    "        print(demo_keyframe.keys())\n",
    "        break\n",
    "    break"
   ]
  },
  {
   "cell_type": "code",
   "execution_count": 75,
   "id": "ddc7e431",
   "metadata": {},
   "outputs": [
    {
     "name": "stdout",
     "output_type": "stream",
     "text": [
      "['stop', 'stop', 'move up', 'move up', 'move up', 'move right up', 'move right up', 'move right', 'move right', 'move right', 'move right', 'move right', 'move right', 'stop', 'stop', 'stop', 'stop', 'stop', 'close gripper', 'close gripper', 'close gripper', 'close gripper', 'close gripper', 'stop', 'stop', 'move left', 'move left', 'move left down', 'move left down', 'move down', 'move down, open gripper', 'open gripper', 'open gripper', 'open gripper', 'open gripper', 'move up', 'move up', 'move up', 'stop', 'stop']\n",
      "[1, 0, 1, 0, 0, 1, 0, 1, 0, 0, 0, 0, 0, 1, 0, 0, 0, 0, 1, 0, 0, 0, 0, 1, 0, 1, 0, 1, 0, 1, 1, 1, 0, 0, 0, 1, 0, 0, 1, 0]\n",
      "[1, 0, 0, 0, 0, 0, 0, 0, 0, 0, 0, 0, 0, 0, 1, 0, 0, 0, 0, 0, 0, 0, 0, 1, 0, 0, 0, 0, 0, 0, 0, 1, 0, 0, 0, 1, 0, 0, 0, 1]\n"
     ]
    }
   ],
   "source": [
    "print(demo_keyframe['features']['move_primitive'])\n",
    "print(demo_keyframe['features']['move_keyframe'])\n",
    "print(demo_keyframe['features']['subtask_keyframe'])"
   ]
  },
  {
   "cell_type": "code",
   "execution_count": 76,
   "id": "a8387d40",
   "metadata": {},
   "outputs": [
    {
     "name": "stdout",
     "output_type": "stream",
     "text": [
      "value: Reach for the wooden arch.\n",
      "value: Reach for the wooden arch.\n",
      "value: Reach for the wooden arch.\n",
      "value: Reach for the wooden arch.\n",
      "value: Reach for the wooden arch.\n",
      "value: Reach for the wooden arch.\n",
      "value: Reach for the wooden arch.\n",
      "value: Reach for the wooden arch.\n",
      "value: Reach for the wooden arch.\n",
      "value: Reach for the wooden arch.\n",
      "value: Reach for the wooden arch.\n",
      "value: Reach for the wooden arch.\n",
      "value: Reach for the wooden arch.\n",
      "value: Reach for the wooden arch.\n",
      "value: Grasp the wooden arch.\n",
      "value: Grasp the wooden arch.\n",
      "value: Grasp the wooden arch.\n",
      "value: Grasp the wooden arch.\n",
      "value: Grasp the wooden arch.\n",
      "value: Grasp the wooden arch.\n",
      "value: Grasp the wooden arch.\n",
      "value: Grasp the wooden arch.\n",
      "value: Grasp the wooden arch.\n",
      "value: Move the wooden arch to the table.\n",
      "value: Move the wooden arch to the table.\n",
      "value: Move the wooden arch to the table.\n",
      "value: Move the wooden arch to the table.\n",
      "value: Move the wooden arch to the table.\n",
      "value: Move the wooden arch to the table.\n",
      "value: Move the wooden arch to the table.\n",
      "value: Move the wooden arch to the table.\n",
      "value: Drop the wooden arch onto the table.\n",
      "value: Drop the wooden arch onto the table.\n",
      "value: Drop the wooden arch onto the table.\n",
      "value: Drop the wooden arch onto the table.\n",
      "value: Reach for the wooden arch.\n",
      "value: Reach for the wooden arch.\n",
      "value: Reach for the wooden arch.\n",
      "value: Reach for the wooden arch.\n",
      "value: Grasp the wooden arch.\n"
     ]
    }
   ],
   "source": [
    "for key, value in demo_keyframe['reasoning'].items():\n",
    "\n",
    "    print(f\"value: {value['subtask']}\")"
   ]
  },
  {
   "cell_type": "code",
   "execution_count": null,
   "id": "24f09b93",
   "metadata": {},
   "outputs": [],
   "source": []
  }
 ],
 "metadata": {
  "kernelspec": {
   "display_name": "cogact",
   "language": "python",
   "name": "python3"
  },
  "language_info": {
   "codemirror_mode": {
    "name": "ipython",
    "version": 3
   },
   "file_extension": ".py",
   "mimetype": "text/x-python",
   "name": "python",
   "nbconvert_exporter": "python",
   "pygments_lexer": "ipython3",
   "version": "3.10.16"
  }
 },
 "nbformat": 4,
 "nbformat_minor": 5
}
